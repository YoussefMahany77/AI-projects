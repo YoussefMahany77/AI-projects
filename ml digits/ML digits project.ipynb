{
 "cells": [
  {
   "cell_type": "code",
   "execution_count": null,
   "id": "afff7c38",
   "metadata": {},
   "outputs": [],
   "source": [
    "# Import necessary libraries\n",
    "from sklearn.datasets import load_digits\n",
    "from sklearn.model_selection import train_test_split\n",
    "from sklearn.svm import SVC\n",
    "from sklearn.metrics import accuracy_score\n",
    "\n",
    "# Load digits dataset\n",
    "digits = load_digits()\n",
    "\n",
    "# Split dataset into training and testing data\n",
    "X_train, X_test, y_train, y_test = train_test_split(digits.data, digits.target, test_size=0.2, random_state=42)\n",
    "\n",
    "# Create Support Vector Machine Classifier object\n",
    "clf = SVC()\n",
    "\n",
    "# Train Support Vector Machine Classifier model\n",
    "clf.fit(X_train, y_train)\n",
    "\n",
    "# Predict using Support Vector Machine Classifier model\n",
    "y_pred = clf.predict(X_test)\n",
    "\n",
    "# Calculate accuracy of Support Vector Machine Classifier model\n",
    "accuracy = accuracy_score(y_test, y_pred)\n",
    "\n",
    "# Print accuracy of Support Vector Machine Classifier model\n",
    "print(\"Accuracy:\", accuracy)\n"
   ]
  }
 ],
 "metadata": {
  "kernelspec": {
   "display_name": "Python 3 (ipykernel)",
   "language": "python",
   "name": "python3"
  },
  "language_info": {
   "codemirror_mode": {
    "name": "ipython",
    "version": 3
   },
   "file_extension": ".py",
   "mimetype": "text/x-python",
   "name": "python",
   "nbconvert_exporter": "python",
   "pygments_lexer": "ipython3",
   "version": "3.10.9"
  }
 },
 "nbformat": 4,
 "nbformat_minor": 5
}
