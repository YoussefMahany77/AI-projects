{
 "cells": [
  {
   "cell_type": "code",
   "execution_count": 1,
   "id": "086a745a",
   "metadata": {},
   "outputs": [],
   "source": [
    "import cv2   as cv2\n",
    "import numpy as np\n",
    "\n",
    "person1 = cv2.imread('download5.jpg')\n",
    "person2 = cv2.imread('leo1.jpg')\n",
    "person3 = cv2.imread('leo3.jpg')\n",
    "person4 = cv2.imread('download4.jpg')\n",
    "\n",
    "person1_gray = cv2.cvtColor(person1, cv2.COLOR_BGR2GRAY)\n",
    "person2_gray = cv2.cvtColor(person2, cv2.COLOR_BGR2GRAY)\n",
    "person3_gray = cv2.cvtColor(person3, cv2.COLOR_BGR2GRAY)\n",
    "person4_gray = cv2.cvtColor(person4, cv2.COLOR_BGR2GRAY)\n",
    "\n",
    "names = ['download5', 'leo1', 'leo3','download4']\n",
    "\n",
    "images = [person1_gray, person2_gray, person3_gray, person4_gray]\n",
    "labels = [0, 1, 2, 3]\n",
    "\n",
    "face_cascade = cv2.CascadeClassifier('haarcascade_frontalface_default.xml')\n",
    "\n",
    "recognizer = cv2.face.LBPHFaceRecognizer_create()\n",
    "\n",
    "recognizer.train(images, np.array(labels))\n",
    "\n",
    "test_image = cv2.imread('leo5.jpg')\n",
    "\n",
    "test_image_gray = cv2.cvtColor(test_image, cv2.COLOR_BGR2GRAY)\n",
    "\n",
    "faces = face_cascade.detectMultiScale(test_image_gray, scaleFactor=1.5, minNeighbors=6)\n",
    "\n",
    "for (x, y, w, h) in faces:\n",
    "    face_roi = test_image_gray[y:y + h, x:x + w]\n",
    "    label, confidence = recognizer.predict(face_roi)\n",
    "    cv2.putText(test_image, names[label], (x, y - 10), cv2.FONT_HERSHEY_SIMPLEX, 0.9, (0, 255, 0), 2)\n",
    "    cv2.rectangle(test_image, (x, y), (x + w, y + h), (0, 255, 0), 2)\n",
    "\n",
    "cv2.imshow('leo5', test_image)\n",
    "cv2.waitKey(0)\n",
    "cv2.destroyAllWindows()"
   ]
  },
  {
   "cell_type": "code",
   "execution_count": null,
   "id": "f3f7fbb2",
   "metadata": {},
   "outputs": [],
   "source": []
  }
 ],
 "metadata": {
  "kernelspec": {
   "display_name": "Python 3 (ipykernel)",
   "language": "python",
   "name": "python3"
  },
  "language_info": {
   "codemirror_mode": {
    "name": "ipython",
    "version": 3
   },
   "file_extension": ".py",
   "mimetype": "text/x-python",
   "name": "python",
   "nbconvert_exporter": "python",
   "pygments_lexer": "ipython3",
   "version": "3.10.9"
  }
 },
 "nbformat": 4,
 "nbformat_minor": 5
}
