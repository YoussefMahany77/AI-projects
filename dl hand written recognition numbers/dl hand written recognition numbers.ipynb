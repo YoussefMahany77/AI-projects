{
 "cells": [
  {
   "cell_type": "code",
   "execution_count": null,
   "id": "fba22b3a",
   "metadata": {},
   "outputs": [],
   "source": [
    "import cv2\n",
    "import numpy as np\n",
    "from keras.models import load_model\n",
    "\n",
    "# Load the hand-writing recognition model\n",
    "model = load_model('C:/Users/yosse/Downloads/h5/model.h5')\n",
    "\n",
    "# Load the image and preprocess it\n",
    "image = cv2.imread('C:/Users/yosse/Downloads/0.png', cv2.IMREAD_GRAYSCALE)\n",
    "image = cv2.resize(image, (28, 28))\n",
    "image = np.expand_dims(image, axis=0)\n",
    "image = image.astype('float32') / 255\n",
    "\n",
    "# Make a prediction with the model\n",
    "prediction = model.predict(image)\n",
    "\n",
    "# Decode the prediction into a readable format\n",
    "recognized_number = np.argmax(prediction)\n",
    "\n",
    "# Display the recognized number\n",
    "print('The recognized number is:', recognized_number)\n"
   ]
  }
 ],
 "metadata": {
  "kernelspec": {
   "display_name": "Python 3 (ipykernel)",
   "language": "python",
   "name": "python3"
  },
  "language_info": {
   "codemirror_mode": {
    "name": "ipython",
    "version": 3
   },
   "file_extension": ".py",
   "mimetype": "text/x-python",
   "name": "python",
   "nbconvert_exporter": "python",
   "pygments_lexer": "ipython3",
   "version": "3.10.9"
  }
 },
 "nbformat": 4,
 "nbformat_minor": 5
}
